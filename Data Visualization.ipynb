{
 "cells": [
  {
   "cell_type": "raw",
   "id": "bdcb3362",
   "metadata": {},
   "source": [
    "List of features covered\n",
    "    Graphs\n",
    "        Style Plots using Matplotlib\n",
    "        Line chart in Matplotlib\n",
    "        Bar Plot in Matplotlib\n",
    "        Box Plot in Python using Matplotlib\n",
    "        Scatter Plot in Matplotlib\n",
    "        Heatmap in Matplotlib\n",
    "        Three-dimensional Plotting using Matplotlib\n",
    "        Time Series Plot or Line plot with Pandas\n",
    "        Python Geospatial Data\n",
    "        \n",
    "    Matplotlib\n",
    "    Seaborn\n",
    "    plotly\n",
    "    Bokeh\n",
    "\n",
    "    Tablue\n",
    "    PowerBI"
   ]
  }
 ],
 "metadata": {
  "kernelspec": {
   "display_name": "Python 3 (ipykernel)",
   "language": "python",
   "name": "python3"
  },
  "language_info": {
   "codemirror_mode": {
    "name": "ipython",
    "version": 3
   },
   "file_extension": ".py",
   "mimetype": "text/x-python",
   "name": "python",
   "nbconvert_exporter": "python",
   "pygments_lexer": "ipython3",
   "version": "3.9.7"
  }
 },
 "nbformat": 4,
 "nbformat_minor": 5
}
