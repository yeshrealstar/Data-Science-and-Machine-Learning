{
 "cells": [
  {
   "cell_type": "raw",
   "id": "36cf7534",
   "metadata": {},
   "source": [
    "List of features covered:\n",
    "    Unsupervised Learning\n",
    "    Types of Learning – Unsupervised Learning\n",
    "    Clustering in Machine Learning\n",
    "    Different Types of Clustering Algorithm\n",
    "    K means Clustering – Introduction\n",
    "    Elbow Method for optimal value of k in KMeans\n",
    "    K-means++ Algorithm\n",
    "    Analysis of test data using K-Means Clustering in Python\n",
    "    Mini Batch K-means clustering algorithm\n",
    "    Mean-Shift Clustering\n",
    "    DBSCAN – Density based clustering\n",
    "    Implementing DBSCAN algorithm using Sklearn\n",
    "    Fuzzy Clustering\n",
    "    Spectral Clustering\n",
    "    OPTICS Clustering\n",
    "    OPTICS Clustering Implementing using Sklearn\n",
    "    Hierarchical clustering (Agglomerative and Divisive clustering)\n",
    "    Implementing Agglomerative Clustering using Sklearn\n",
    "    Gaussian Mixture Model"
   ]
  },
  {
   "cell_type": "code",
   "execution_count": null,
   "id": "e0eb40a6",
   "metadata": {},
   "outputs": [],
   "source": []
  }
 ],
 "metadata": {
  "kernelspec": {
   "display_name": "Python 3 (ipykernel)",
   "language": "python",
   "name": "python3"
  },
  "language_info": {
   "codemirror_mode": {
    "name": "ipython",
    "version": 3
   },
   "file_extension": ".py",
   "mimetype": "text/x-python",
   "name": "python",
   "nbconvert_exporter": "python",
   "pygments_lexer": "ipython3",
   "version": "3.9.7"
  }
 },
 "nbformat": 4,
 "nbformat_minor": 5
}
