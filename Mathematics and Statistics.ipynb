{
 "cells": [
  {
   "cell_type": "raw",
   "id": "e4252f45",
   "metadata": {},
   "source": [
    "List of features we include\n",
    "    Probability\n",
    "    Naives Bayes\n",
    "    Optimization\n",
    "    \n",
    "    Measures of Central Tendency\n",
    "    Statistics with Python\n",
    "    Measuring Variance\n",
    "    Normal Distribution\n",
    "    Binomial Distribution\n",
    "    Poisson Discrete Distribution\n",
    "    Bernoulli Distribution\n",
    "    P-value\n",
    "    Exploring Correlation in Python\n",
    "    Create a correlation Matrix using Python\n",
    "    Pearson’s Chi-Square Test\n",
    "    \n",
    "    Algorithms\n",
    "    "
   ]
  },
  {
   "cell_type": "code",
   "execution_count": null,
   "id": "d11f5ac5",
   "metadata": {},
   "outputs": [],
   "source": []
  }
 ],
 "metadata": {
  "kernelspec": {
   "display_name": "Python 3 (ipykernel)",
   "language": "python",
   "name": "python3"
  },
  "language_info": {
   "codemirror_mode": {
    "name": "ipython",
    "version": 3
   },
   "file_extension": ".py",
   "mimetype": "text/x-python",
   "name": "python",
   "nbconvert_exporter": "python",
   "pygments_lexer": "ipython3",
   "version": "3.9.7"
  }
 },
 "nbformat": 4,
 "nbformat_minor": 5
}
