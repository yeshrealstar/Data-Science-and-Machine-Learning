{
 "cells": [
  {
   "cell_type": "raw",
   "id": "7e6a598e",
   "metadata": {},
   "source": [
    "List of features covered\n",
    "    Supervised learning\n",
    "    Types of Learning – Supervised Learning\n",
    "    Getting started with Classification\n",
    "    Types of Regression Techniques\n",
    "    Classification vs Regression\n",
    "    Linear Regression\n",
    "    Introduction to Linear Regression\n",
    "    Implementing Linear Regression\n",
    "    Univariate Linear Regression\n",
    "    Multiple Linear Regression\n",
    "    Python | Linear Regression using sklearn\n",
    "    Linear Regression Using Tensorflow\n",
    "    Linear Regression using PyTorch\n",
    "    Pyspark | Linear regression using Apache MLlib\n",
    "    Boston Housing Kaggle Challenge with Linear Regression\n",
    "    Polynomial Regression\n",
    "    Polynomial Regression ( From Scratch using Python )\n",
    "    Polynomial Regression\n",
    "    Polynomial Regression for Non-Linear Data\n",
    "    Polynomial Regression using Turicreate\n",
    "    Logistic Regression\n",
    "    Understanding Logistic Regression\n",
    "    Implementing Logistic Regression\n",
    "    Logistic Regression using Tensorflow\n",
    "    Softmax Regression using TensorFlow\n",
    "    Softmax Regression Using Keras\n",
    "    Naive Bayes\n",
    "    Naive Bayes Classifiers\n",
    "     Naive Bayes Scratch Implementation using Python\n",
    "    Complement Naive Bayes (CNB) Algorithm\n",
    "    Applying Multinomial Naive Bayes to NLP Problems\n",
    "    Support Vector\n",
    "    Support Vector Machine Algorithm\n",
    "    Support Vector Machines(SVMs) in Python\n",
    "    SVM Hyperparameter Tuning using GridSearchCV\n",
    "    Creating linear kernel SVM in Python\n",
    "    Major Kernel Functions in Support Vector Machine (SVM)\n",
    "    Using SVM to perform classification on a non-linear dataset\n",
    "    Decision Tree\n",
    "    Decision Tree\n",
    "    Implementing Decision tree\n",
    "    Decision Tree Regression using sklearn\n",
    "    Random Forest\n",
    "    Random Forest Regression in Python\n",
    "    Random Forest Classifier using Scikit-learn\n",
    "    Hyperparameters of Random Forest Classifier\n",
    "    Voting Classifier using Sklearn\n",
    "    Bagging classifier\n",
    "    K-nearest neighbor (KNN)\n",
    "    K Nearest Neighbors with Python | ML\n",
    "    Implementation of K-Nearest Neighbors from Scratch using Python\n",
    "    K-nearest neighbor algorithm in Python\n",
    "    Implementation of KNN classifier using Sklearn\n",
    "    Imputation using the KNNimputer()\n",
    "    Implementation of KNN using OpenCV"
   ]
  },
  {
   "cell_type": "code",
   "execution_count": null,
   "id": "2078dbcf",
   "metadata": {},
   "outputs": [],
   "source": []
  }
 ],
 "metadata": {
  "kernelspec": {
   "display_name": "Python 3 (ipykernel)",
   "language": "python",
   "name": "python3"
  },
  "language_info": {
   "codemirror_mode": {
    "name": "ipython",
    "version": 3
   },
   "file_extension": ".py",
   "mimetype": "text/x-python",
   "name": "python",
   "nbconvert_exporter": "python",
   "pygments_lexer": "ipython3",
   "version": "3.9.7"
  }
 },
 "nbformat": 4,
 "nbformat_minor": 5
}
